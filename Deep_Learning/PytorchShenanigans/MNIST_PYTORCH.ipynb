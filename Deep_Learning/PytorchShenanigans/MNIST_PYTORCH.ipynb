{
 "cells": [
  {
   "cell_type": "markdown",
   "metadata": {},
   "source": [
    "# Classifcation of MNIST data using pytorch"
   ]
  },
  {
   "cell_type": "code",
   "execution_count": 60,
   "metadata": {},
   "outputs": [
    {
     "name": "stdout",
     "output_type": "stream",
     "text": [
      "Using device: cuda\n"
     ]
    }
   ],
   "source": [
    "import torch.nn as nn\n",
    "import torch.nn.functional as F\n",
    "import torch.optim as optim\n",
    "import torch\n",
    "import numpy as np\n",
    "from torchvision import datasets, transforms\n",
    "device = torch.device(\"cuda\" if torch.cuda.is_available() else \"cpu\")\n",
    "print(f\"Using device: {device}\")"
   ]
  },
  {
   "cell_type": "code",
   "execution_count": 65,
   "metadata": {},
   "outputs": [],
   "source": [
    "transform = transforms.Compose([transforms.ToTensor()])\n",
    "\n",
    "mnist_pytorch = datasets.MNIST(root='./data', train=True, download=True, transform=transform)\n",
    "\n",
    "mnist_pytorch_test = datasets.MNIST(root='./data', train=False, download=True, transform=transform)\n",
    "\n",
    "train_loader_pytorch = torch.utils.data.DataLoader(mnist_pytorch, batch_size=1, shuffle=False)\n",
    "\n",
    "test_loader_pytorch = torch.utils.data.DataLoader(mnist_pytorch_test, batch_size=1, shuffle=False)\n",
    "\n"
   ]
  },
  {
   "cell_type": "code",
   "execution_count": 68,
   "metadata": {},
   "outputs": [],
   "source": [
    "mnist_pytorch_train_data = mnist_pytorch.data.to(device) / 255\n",
    "mnist_pytorch_train_labels = mnist_pytorch.targets.to(device)\n",
    "\n",
    "mnist_pytorch_test_data = mnist_pytorch.data.to(device) / 255\n",
    "mnist_pytorch_test_labels = mnist_pytorch.targets.to(device)\n"
   ]
  },
  {
   "cell_type": "code",
   "execution_count": 77,
   "metadata": {},
   "outputs": [],
   "source": [
    "class ClassifcationNN(nn.Module):\n",
    "    '''\n",
    "    Class for a feed forward neural network to classify MNIST data \n",
    "    '''\n",
    "    def __init__(self, input_size : int = 28, layer_1_size:int = 800, output_size : int = 10):\n",
    "        super(ClassifcationNN, self).__init__()\n",
    "        self.input_layer = nn.Linear(input_size * input_size, layer_1_size)\n",
    "        self.first_layer = nn.Linear(layer_1_size, output_size)\n",
    "\n",
    "        self.ReLU = nn.ReLU()\n",
    "       \n",
    "\n",
    "    def forward(self, input_data : np.ndarray) -> np.ndarray:\n",
    "        # Forward propagation\n",
    "        out = input_data.view(-1, 28*28)\n",
    "        out = self.input_layer(out)\n",
    "        out = self.ReLU(out)\n",
    "        out = self.first_layer(out)\n",
    "\n",
    "        return out\n",
    "    \n",
    "    \n",
    "def train(input_data : torch.Tensor, target_data : torch.Tensor , model : nn.Module, num_epoches :int = 100) -> nn.Module:\n",
    "    # Function for training a model\n",
    "    criterion = nn.CrossEntropyLoss()\n",
    "    optimize = optim.Adam(model.parameters(),lr = 0.001 )\n",
    "\n",
    "    model.to(device)\n",
    "\n",
    "    for _ in range(num_epoches):\n",
    "        model.train()\n",
    "        # Forward pass\n",
    "        outputs = model(input_data)\n",
    "        loss = criterion(outputs ,target_data)\n",
    "        \n",
    "        # Backward pass and optimization\n",
    "        optimize.zero_grad()  # Clear gradients\n",
    "        loss.backward()  # Backpropagation\n",
    "        optimize.step()  # Update weights\n",
    "        \n",
    "    return model\n",
    "   \n",
    "\n",
    "def predict(model, input_data, real_data):\n",
    "    # Set model to evaluation mode\n",
    "    model.eval()\n",
    "\n",
    "    # Ensure input data is on the correct device\n",
    "    input_data = input_data.to(device)\n",
    "    real_data = real_data.to(device)\n",
    "\n",
    "    # Disable gradient calculation\n",
    "    with torch.no_grad():\n",
    "        # Forward pass through the model\n",
    "        outputs = model(input_data)\n",
    "\n",
    "        # Get predicted classes (index of max logit value)\n",
    "        _, predicted_classes = torch.max(outputs, 1)\n",
    "        \n",
    "        correct = (predicted_classes == real_data).sum().item()\n",
    "        # Calculate accuracy\n",
    "        total = real_data.size(0)\n",
    "        accuracy = 100 * correct / total\n",
    "\n",
    "    return accuracy, predicted_classes"
   ]
  },
  {
   "cell_type": "code",
   "execution_count": 78,
   "metadata": {},
   "outputs": [],
   "source": [
    "model = ClassifcationNN()\n",
    "\n",
    "trained_model = train(mnist_pytorch_train_data, mnist_pytorch_train_labels, model )"
   ]
  },
  {
   "cell_type": "code",
   "execution_count": 80,
   "metadata": {},
   "outputs": [
    {
     "data": {
      "text/plain": [
       "(95.545, tensor([5, 0, 4,  ..., 5, 6, 8], device='cuda:0'))"
      ]
     },
     "execution_count": 80,
     "metadata": {},
     "output_type": "execute_result"
    }
   ],
   "source": [
    "predict(trained_model, mnist_pytorch_test_data, mnist_pytorch_test_labels)"
   ]
  }
 ],
 "metadata": {
  "kernelspec": {
   "display_name": "Python 3",
   "language": "python",
   "name": "python3"
  },
  "language_info": {
   "codemirror_mode": {
    "name": "ipython",
    "version": 3
   },
   "file_extension": ".py",
   "mimetype": "text/x-python",
   "name": "python",
   "nbconvert_exporter": "python",
   "pygments_lexer": "ipython3",
   "version": "3.12.5"
  }
 },
 "nbformat": 4,
 "nbformat_minor": 2
}
