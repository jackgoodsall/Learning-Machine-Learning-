{
 "cells": [
  {
   "cell_type": "markdown",
   "metadata": {},
   "source": [
    "# Tests for NN from scratch"
   ]
  },
  {
   "cell_type": "code",
   "execution_count": 59,
   "metadata": {},
   "outputs": [],
   "source": [
    "import sys\n",
    "import os\n",
    "import importlib\n",
    "# Add the parent directory (where 'scripts' folder is located) to sys.path\n",
    "sys.path.append(os.path.abspath(os.path.join(os.getcwd(), '..', 'Scripts')))\n",
    "\n",
    "from NNModel import NeuralNetwork\n",
    "\n",
    "import numpy as np\n",
    "import sklearn.datasets  as datasets\n",
    "from sklearn.model_selection import train_test_split\n",
    "import matplotlib.pyplot as plt"
   ]
  },
  {
   "cell_type": "markdown",
   "metadata": {},
   "source": [
    "## XOR gate"
   ]
  },
  {
   "cell_type": "markdown",
   "metadata": {},
   "source": [
    "The most simple test to see if a neural network is working is the XOR gate detailed below."
   ]
  },
  {
   "cell_type": "code",
   "execution_count": 60,
   "metadata": {},
   "outputs": [
    {
     "ename": "RecursionError",
     "evalue": "maximum recursion depth exceeded",
     "output_type": "error",
     "traceback": [
      "\u001b[1;31m---------------------------------------------------------------------------\u001b[0m",
      "\u001b[1;31mRecursionError\u001b[0m                            Traceback (most recent call last)",
      "Cell \u001b[1;32mIn[60], line 5\u001b[0m\n\u001b[0;32m      2\u001b[0m XOR_Gate \u001b[38;5;241m=\u001b[39m NeuralNetwork()\n\u001b[0;32m      4\u001b[0m XOR_Gate\u001b[38;5;241m.\u001b[39madd_input(\u001b[38;5;241m2\u001b[39m)\n\u001b[1;32m----> 5\u001b[0m \u001b[43mXOR_Gate\u001b[49m\u001b[38;5;241;43m.\u001b[39;49m\u001b[43madd_dense\u001b[49m\u001b[43m(\u001b[49m\u001b[38;5;241;43m3\u001b[39;49m\u001b[43m)\u001b[49m\n\u001b[0;32m      6\u001b[0m XOR_Gate\u001b[38;5;241m.\u001b[39madd_output(\u001b[38;5;241m1\u001b[39m)\n",
      "File \u001b[1;32mc:\\Documents\\MachineLearning\\Learning-Machine-Learning-\\Deep_Learning\\SimpleNeuralNetworks\\scripts\\NNModel.py:87\u001b[0m, in \u001b[0;36mNeuralNetwork.add_dense\u001b[1;34m(self, n_neurons, activation_function)\u001b[0m\n\u001b[0;32m     85\u001b[0m     \u001b[38;5;28;01mreturn\u001b[39;00m \u001b[38;5;124m\"\u001b[39m\u001b[38;5;124mNetwork has an output layer, can not add another Dense layer\u001b[39m\u001b[38;5;124m\"\u001b[39m\n\u001b[0;32m     86\u001b[0m \u001b[38;5;28;01melse\u001b[39;00m:   \n\u001b[1;32m---> 87\u001b[0m     \u001b[38;5;28mself\u001b[39m\u001b[38;5;241m.\u001b[39mlayers\u001b[38;5;241m.\u001b[39mappend( \u001b[43mDenseLayer\u001b[49m\u001b[43m(\u001b[49m\u001b[38;5;28;43mself\u001b[39;49m\u001b[38;5;241;43m.\u001b[39;49m\u001b[43mlayers\u001b[49m\u001b[43m[\u001b[49m\u001b[38;5;241;43m-\u001b[39;49m\u001b[38;5;241;43m1\u001b[39;49m\u001b[43m]\u001b[49m\u001b[38;5;241;43m.\u001b[39;49m\u001b[43moutput_size\u001b[49m\u001b[43m,\u001b[49m\u001b[43m \u001b[49m\u001b[43mn_neurons\u001b[49m\u001b[43m,\u001b[49m\u001b[43m \u001b[49m\u001b[43mactivation\u001b[49m\u001b[43m \u001b[49m\u001b[38;5;241;43m=\u001b[39;49m\u001b[43m \u001b[49m\u001b[43mactivation_function\u001b[49m\u001b[43m)\u001b[49m )\n",
      "File \u001b[1;32mc:\\Documents\\MachineLearning\\Learning-Machine-Learning-\\Deep_Learning\\SimpleNeuralNetworks\\scripts\\NNLayerArchitecture.py:69\u001b[0m, in \u001b[0;36mDenseLayer.__init__\u001b[1;34m(self, n_inputs, n_neurons, activation, seed)\u001b[0m\n\u001b[0;32m     56\u001b[0m \u001b[38;5;28mself\u001b[39m\u001b[38;5;241m.\u001b[39mbias : np\u001b[38;5;241m.\u001b[39mndarray \u001b[38;5;241m=\u001b[39m np\u001b[38;5;241m.\u001b[39mzeros((\u001b[38;5;241m1\u001b[39m, n_neurons)) \n\u001b[0;32m     57\u001b[0m \u001b[38;5;250m\u001b[39m\u001b[38;5;124;03m'''\u001b[39;00m\n\u001b[0;32m     58\u001b[0m \u001b[38;5;124;03mIf activation is true set activation function to relu\u001b[39;00m\n\u001b[0;32m     59\u001b[0m \u001b[38;5;124;03mThis will be changed layer to accomidate more activation funciton choses like:\u001b[39;00m\n\u001b[1;32m   (...)\u001b[0m\n\u001b[0;32m     67\u001b[0m \u001b[38;5;124;03mDefault choice is None current implemented by returning False\u001b[39;00m\n\u001b[0;32m     68\u001b[0m \u001b[38;5;124;03m'''\u001b[39;00m\n\u001b[1;32m---> 69\u001b[0m \u001b[38;5;28;43mself\u001b[39;49m\u001b[38;5;241;43m.\u001b[39;49m\u001b[43m_activation_function\u001b[49m \u001b[38;5;241m=\u001b[39m activation\n",
      "File \u001b[1;32mc:\\Documents\\MachineLearning\\Learning-Machine-Learning-\\Deep_Learning\\SimpleNeuralNetworks\\scripts\\NNLayerArchitecture.py:40\u001b[0m, in \u001b[0;36mNNLayers._activation_function\u001b[1;34m(self, activation_name)\u001b[0m\n\u001b[0;32m     38\u001b[0m     \u001b[38;5;28mself\u001b[39m\u001b[38;5;241m.\u001b[39m_activation_function \u001b[38;5;241m=\u001b[39m \u001b[38;5;28mself\u001b[39m\u001b[38;5;241m.\u001b[39m_activation_function_dict[activation_name]\n\u001b[0;32m     39\u001b[0m \u001b[38;5;28;01melse\u001b[39;00m:\n\u001b[1;32m---> 40\u001b[0m     \u001b[38;5;28;43mself\u001b[39;49m\u001b[38;5;241;43m.\u001b[39;49m\u001b[43m_activation_function\u001b[49m \u001b[38;5;241m=\u001b[39m \u001b[38;5;28mself\u001b[39m\u001b[38;5;241m.\u001b[39m_activation_function_dict[\u001b[38;5;124m\"\u001b[39m\u001b[38;5;124mNone\u001b[39m\u001b[38;5;124m\"\u001b[39m]\n",
      "File \u001b[1;32mc:\\Documents\\MachineLearning\\Learning-Machine-Learning-\\Deep_Learning\\SimpleNeuralNetworks\\scripts\\NNLayerArchitecture.py:40\u001b[0m, in \u001b[0;36mNNLayers._activation_function\u001b[1;34m(self, activation_name)\u001b[0m\n\u001b[0;32m     38\u001b[0m     \u001b[38;5;28mself\u001b[39m\u001b[38;5;241m.\u001b[39m_activation_function \u001b[38;5;241m=\u001b[39m \u001b[38;5;28mself\u001b[39m\u001b[38;5;241m.\u001b[39m_activation_function_dict[activation_name]\n\u001b[0;32m     39\u001b[0m \u001b[38;5;28;01melse\u001b[39;00m:\n\u001b[1;32m---> 40\u001b[0m     \u001b[38;5;28;43mself\u001b[39;49m\u001b[38;5;241;43m.\u001b[39;49m\u001b[43m_activation_function\u001b[49m \u001b[38;5;241m=\u001b[39m \u001b[38;5;28mself\u001b[39m\u001b[38;5;241m.\u001b[39m_activation_function_dict[\u001b[38;5;124m\"\u001b[39m\u001b[38;5;124mNone\u001b[39m\u001b[38;5;124m\"\u001b[39m]\n",
      "    \u001b[1;31m[... skipping similar frames: _activation_function at line 40 (1487 times)]\u001b[0m\n",
      "File \u001b[1;32mc:\\Documents\\MachineLearning\\Learning-Machine-Learning-\\Deep_Learning\\SimpleNeuralNetworks\\scripts\\NNLayerArchitecture.py:40\u001b[0m, in \u001b[0;36mNNLayers._activation_function\u001b[1;34m(self, activation_name)\u001b[0m\n\u001b[0;32m     38\u001b[0m     \u001b[38;5;28mself\u001b[39m\u001b[38;5;241m.\u001b[39m_activation_function \u001b[38;5;241m=\u001b[39m \u001b[38;5;28mself\u001b[39m\u001b[38;5;241m.\u001b[39m_activation_function_dict[activation_name]\n\u001b[0;32m     39\u001b[0m \u001b[38;5;28;01melse\u001b[39;00m:\n\u001b[1;32m---> 40\u001b[0m     \u001b[38;5;28;43mself\u001b[39;49m\u001b[38;5;241;43m.\u001b[39;49m\u001b[43m_activation_function\u001b[49m \u001b[38;5;241m=\u001b[39m \u001b[38;5;28mself\u001b[39m\u001b[38;5;241m.\u001b[39m_activation_function_dict[\u001b[38;5;124m\"\u001b[39m\u001b[38;5;124mNone\u001b[39m\u001b[38;5;124m\"\u001b[39m]\n",
      "\u001b[1;31mRecursionError\u001b[0m: maximum recursion depth exceeded"
     ]
    }
   ],
   "source": [
    "\n",
    "importlib.reload(Scripts)\n",
    "XOR_Gate = NeuralNetwork()\n",
    "\n",
    "XOR_Gate.add_input(2)\n",
    "XOR_Gate.add_dense(3)\n",
    "XOR_Gate.add_output(1)\n"
   ]
  },
  {
   "cell_type": "code",
   "execution_count": 4,
   "metadata": {},
   "outputs": [
    {
     "name": "stdout",
     "output_type": "stream",
     "text": [
      "[[250.16889066]\n",
      " [602.25802479]\n",
      " [602.03182966]\n",
      " [954.12096379]]\n"
     ]
    }
   ],
   "source": [
    "x = np.array([    [0,0],[0,1],[1,0] ,[1,1]    ])\n",
    "\n",
    "y = np.array(    [[0],[1],[1],[0]])\n",
    "\n",
    "XOR_Gate.train(x, y, epoches = 100000, learn_rate= 0.1)\n",
    "\n",
    "print( XOR_Gate.predict(x) )"
   ]
  },
  {
   "cell_type": "markdown",
   "metadata": {},
   "source": [
    "## Circular data"
   ]
  },
  {
   "cell_type": "code",
   "execution_count": 49,
   "metadata": {},
   "outputs": [
    {
     "ename": "RecursionError",
     "evalue": "maximum recursion depth exceeded",
     "output_type": "error",
     "traceback": [
      "\u001b[1;31m---------------------------------------------------------------------------\u001b[0m",
      "\u001b[1;31mRecursionError\u001b[0m                            Traceback (most recent call last)",
      "Cell \u001b[1;32mIn[49], line 9\u001b[0m\n\u001b[0;32m      6\u001b[0m circularNN \u001b[38;5;241m=\u001b[39m NeuralNetwork()\n\u001b[0;32m      8\u001b[0m circularNN\u001b[38;5;241m.\u001b[39madd_input(\u001b[38;5;241m2\u001b[39m)\n\u001b[1;32m----> 9\u001b[0m \u001b[43mcircularNN\u001b[49m\u001b[38;5;241;43m.\u001b[39;49m\u001b[43madd_dense\u001b[49m\u001b[43m(\u001b[49m\u001b[38;5;241;43m10\u001b[39;49m\u001b[43m)\u001b[49m\n\u001b[0;32m     10\u001b[0m circularNN\u001b[38;5;241m.\u001b[39madd_dense(\u001b[38;5;241m10\u001b[39m)\n\u001b[0;32m     11\u001b[0m circularNN\u001b[38;5;241m.\u001b[39madd_output(\u001b[38;5;241m1\u001b[39m)\n",
      "File \u001b[1;32mc:\\Documents\\MachineLearning\\Learning-Machine-Learning-\\Deep_Learning\\SimpleNeuralNetworks\\scripts\\NNModel.py:87\u001b[0m, in \u001b[0;36mNeuralNetwork.add_dense\u001b[1;34m(self, n_neurons, activation_function)\u001b[0m\n\u001b[0;32m     85\u001b[0m     \u001b[38;5;28;01mreturn\u001b[39;00m \u001b[38;5;124m\"\u001b[39m\u001b[38;5;124mNetwork has an output layer, can not add another Dense layer\u001b[39m\u001b[38;5;124m\"\u001b[39m\n\u001b[0;32m     86\u001b[0m \u001b[38;5;28;01melse\u001b[39;00m:   \n\u001b[1;32m---> 87\u001b[0m     \u001b[38;5;28mself\u001b[39m\u001b[38;5;241m.\u001b[39mlayers\u001b[38;5;241m.\u001b[39mappend( \u001b[43mDenseLayer\u001b[49m\u001b[43m(\u001b[49m\u001b[38;5;28;43mself\u001b[39;49m\u001b[38;5;241;43m.\u001b[39;49m\u001b[43mlayers\u001b[49m\u001b[43m[\u001b[49m\u001b[38;5;241;43m-\u001b[39;49m\u001b[38;5;241;43m1\u001b[39;49m\u001b[43m]\u001b[49m\u001b[38;5;241;43m.\u001b[39;49m\u001b[43moutput_size\u001b[49m\u001b[43m,\u001b[49m\u001b[43m \u001b[49m\u001b[43mn_neurons\u001b[49m\u001b[43m,\u001b[49m\u001b[43m \u001b[49m\u001b[43mactivation\u001b[49m\u001b[43m \u001b[49m\u001b[38;5;241;43m=\u001b[39;49m\u001b[43m \u001b[49m\u001b[43mactivation_function\u001b[49m\u001b[43m)\u001b[49m )\n",
      "File \u001b[1;32mc:\\Documents\\MachineLearning\\Learning-Machine-Learning-\\Deep_Learning\\SimpleNeuralNetworks\\scripts\\NNLayerArchitecture.py:69\u001b[0m, in \u001b[0;36mDenseLayer.__init__\u001b[1;34m(self, n_inputs, n_neurons, activation, seed)\u001b[0m\n\u001b[0;32m     56\u001b[0m \u001b[38;5;28mself\u001b[39m\u001b[38;5;241m.\u001b[39mbias : np\u001b[38;5;241m.\u001b[39mndarray \u001b[38;5;241m=\u001b[39m np\u001b[38;5;241m.\u001b[39mzeros((\u001b[38;5;241m1\u001b[39m, n_neurons)) \n\u001b[0;32m     57\u001b[0m \u001b[38;5;250m\u001b[39m\u001b[38;5;124;03m'''\u001b[39;00m\n\u001b[0;32m     58\u001b[0m \u001b[38;5;124;03mIf activation is true set activation function to relu\u001b[39;00m\n\u001b[0;32m     59\u001b[0m \u001b[38;5;124;03mThis will be changed layer to accomidate more activation funciton choses like:\u001b[39;00m\n\u001b[1;32m   (...)\u001b[0m\n\u001b[0;32m     67\u001b[0m \u001b[38;5;124;03mDefault choice is None current implemented by returning False\u001b[39;00m\n\u001b[0;32m     68\u001b[0m \u001b[38;5;124;03m'''\u001b[39;00m\n\u001b[1;32m---> 69\u001b[0m \u001b[38;5;28;43mself\u001b[39;49m\u001b[38;5;241;43m.\u001b[39;49m\u001b[43m_activation_function\u001b[49m \u001b[38;5;241m=\u001b[39m activation\n",
      "File \u001b[1;32mc:\\Documents\\MachineLearning\\Learning-Machine-Learning-\\Deep_Learning\\SimpleNeuralNetworks\\scripts\\NNLayerArchitecture.py:40\u001b[0m, in \u001b[0;36mNNLayers._activation_function\u001b[1;34m(self, activation_name)\u001b[0m\n\u001b[0;32m     38\u001b[0m     \u001b[38;5;28mself\u001b[39m\u001b[38;5;241m.\u001b[39m_activation_function \u001b[38;5;241m=\u001b[39m \u001b[38;5;28mself\u001b[39m\u001b[38;5;241m.\u001b[39m_activation_function_dict[activation_name]\n\u001b[0;32m     39\u001b[0m \u001b[38;5;28;01melse\u001b[39;00m:\n\u001b[1;32m---> 40\u001b[0m     \u001b[38;5;28;43mself\u001b[39;49m\u001b[38;5;241;43m.\u001b[39;49m\u001b[43m_activation_function\u001b[49m \u001b[38;5;241m=\u001b[39m \u001b[38;5;28mself\u001b[39m\u001b[38;5;241m.\u001b[39m_activation_function_dict[\u001b[38;5;124m\"\u001b[39m\u001b[38;5;124mNone\u001b[39m\u001b[38;5;124m\"\u001b[39m]\n",
      "File \u001b[1;32mc:\\Documents\\MachineLearning\\Learning-Machine-Learning-\\Deep_Learning\\SimpleNeuralNetworks\\scripts\\NNLayerArchitecture.py:40\u001b[0m, in \u001b[0;36mNNLayers._activation_function\u001b[1;34m(self, activation_name)\u001b[0m\n\u001b[0;32m     38\u001b[0m     \u001b[38;5;28mself\u001b[39m\u001b[38;5;241m.\u001b[39m_activation_function \u001b[38;5;241m=\u001b[39m \u001b[38;5;28mself\u001b[39m\u001b[38;5;241m.\u001b[39m_activation_function_dict[activation_name]\n\u001b[0;32m     39\u001b[0m \u001b[38;5;28;01melse\u001b[39;00m:\n\u001b[1;32m---> 40\u001b[0m     \u001b[38;5;28;43mself\u001b[39;49m\u001b[38;5;241;43m.\u001b[39;49m\u001b[43m_activation_function\u001b[49m \u001b[38;5;241m=\u001b[39m \u001b[38;5;28mself\u001b[39m\u001b[38;5;241m.\u001b[39m_activation_function_dict[\u001b[38;5;124m\"\u001b[39m\u001b[38;5;124mNone\u001b[39m\u001b[38;5;124m\"\u001b[39m]\n",
      "    \u001b[1;31m[... skipping similar frames: _activation_function at line 40 (1487 times)]\u001b[0m\n",
      "File \u001b[1;32mc:\\Documents\\MachineLearning\\Learning-Machine-Learning-\\Deep_Learning\\SimpleNeuralNetworks\\scripts\\NNLayerArchitecture.py:40\u001b[0m, in \u001b[0;36mNNLayers._activation_function\u001b[1;34m(self, activation_name)\u001b[0m\n\u001b[0;32m     38\u001b[0m     \u001b[38;5;28mself\u001b[39m\u001b[38;5;241m.\u001b[39m_activation_function \u001b[38;5;241m=\u001b[39m \u001b[38;5;28mself\u001b[39m\u001b[38;5;241m.\u001b[39m_activation_function_dict[activation_name]\n\u001b[0;32m     39\u001b[0m \u001b[38;5;28;01melse\u001b[39;00m:\n\u001b[1;32m---> 40\u001b[0m     \u001b[38;5;28;43mself\u001b[39;49m\u001b[38;5;241;43m.\u001b[39;49m\u001b[43m_activation_function\u001b[49m \u001b[38;5;241m=\u001b[39m \u001b[38;5;28mself\u001b[39m\u001b[38;5;241m.\u001b[39m_activation_function_dict[\u001b[38;5;124m\"\u001b[39m\u001b[38;5;124mNone\u001b[39m\u001b[38;5;124m\"\u001b[39m]\n",
      "\u001b[1;31mRecursionError\u001b[0m: maximum recursion depth exceeded"
     ]
    }
   ],
   "source": [
    "circularX, circulary = datasets.make_circles(n_samples = 500, random_state = 42)\n",
    "\n",
    "circularX_train, circularX_test, circulary_train, circulary_test = train_test_split(circularX, circulary, random_state = 42, train_size = 0.8)\n",
    "\n",
    "\n",
    "circularNN = NeuralNetwork()\n",
    "\n",
    "circularNN.add_input(2)\n",
    "circularNN.add_dense(10)\n",
    "circularNN.add_dense(10)\n",
    "circularNN.add_output(1)\n",
    "\n",
    "circularNN.train(circularX_train, circulary_train.reshape(-1, 1), epoches = 100000, learn_rate = 0.001, print_information = True)\n",
    "pred = circularNN.predict(circularX_test)\n",
    "\n",
    "pred_binary = (pred > 0.5).astype(int)\n",
    "\n",
    "\n",
    "plt.figure(figsize=(8, 6))\n",
    "plt.scatter(circularX_test[pred_binary.flatten() == 0][:, 0], circularX_test[pred_binary.flatten() == 0][:, 1], color='blue', label='Class 0', edgecolor='k')\n",
    "plt.scatter(circularX_test[pred_binary.flatten() == 1][:, 0], circularX_test[pred_binary.flatten() == 1][:, 1], color='red', label='Class 1', edgecolor='k')\n",
    "plt.title('Circular Classification Data')\n",
    "plt.xlabel('Feature 1')\n",
    "plt.ylabel('Feature 2')\n",
    "plt.legend()\n",
    "plt.grid(True)\n",
    "plt.show()\n",
    "\n"
   ]
  },
  {
   "cell_type": "code",
   "execution_count": null,
   "metadata": {},
   "outputs": [],
   "source": []
  }
 ],
 "metadata": {
  "kernelspec": {
   "display_name": "Python 3",
   "language": "python",
   "name": "python3"
  },
  "language_info": {
   "codemirror_mode": {
    "name": "ipython",
    "version": 3
   },
   "file_extension": ".py",
   "mimetype": "text/x-python",
   "name": "python",
   "nbconvert_exporter": "python",
   "pygments_lexer": "ipython3",
   "version": "3.12.6"
  }
 },
 "nbformat": 4,
 "nbformat_minor": 2
}
