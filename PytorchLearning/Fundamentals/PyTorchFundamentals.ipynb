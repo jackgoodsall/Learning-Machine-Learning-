{
 "cells": [
  {
   "cell_type": "markdown",
   "metadata": {},
   "source": [
    "# PyTorch workflow fundamentals"
   ]
  },
  {
   "cell_type": "markdown",
   "metadata": {},
   "source": [
    "PyTorch is an open source machine learning and deep learning framework originally developed by META. I have chosen to learn PyTorch over tensorflow mainly as it seems more widely used and more user friendly. PyTorch offers GPU acceleration that vastly increases model training time (we will see this later on) and makes producing NN models much easier."
   ]
  },
  {
   "cell_type": "markdown",
   "metadata": {},
   "source": [
    "First we will start with importing pytorch which can be done with the below code (it is often useful to sepertly import different modules like torch.nn, optim and functional seperately)."
   ]
  },
  {
   "cell_type": "code",
   "execution_count": 27,
   "metadata": {},
   "outputs": [],
   "source": [
    "import torch\n",
    "torch.__version__\n",
    "\n",
    "device = 'cuda' if torch.cuda.is_available() else 'cpu'"
   ]
  },
  {
   "cell_type": "markdown",
   "metadata": {},
   "source": [
    "## Data"
   ]
  },
  {
   "cell_type": "markdown",
   "metadata": {},
   "source": [
    "Machine learning is a game of two parts:\n",
    "* Turning data into numbers (a represenation)\n",
    "* Pick or build  a model to learn the representation\n",
    "\n",
    "To show an example we will create some linear data with known parameters and make a model to estimate these paramaters."
   ]
  },
  {
   "cell_type": "code",
   "execution_count": 38,
   "metadata": {},
   "outputs": [
    {
     "name": "stdout",
     "output_type": "stream",
     "text": [
      "\n"
     ]
    }
   ],
   "source": [
    "# Create *known* parameters\n",
    "weight = 0.7\n",
    "bias = 0.3\n",
    "\n",
    "# Create data\n",
    "start = 0\n",
    "end = 1\n",
    "step = 0.02\n",
    "X = torch.arange(start, end, step).unsqueeze(dim = 1).to(device)\n",
    "y = weight * X + bias\n",
    "y = y.to(device)\n",
    "X[:10], y[:10]\n",
    "print(\"\")"
   ]
  },
  {
   "cell_type": "markdown",
   "metadata": {},
   "source": [
    "<bold> NOTE </bold> In the above code the .unsqueeze() turns the array from a 1D array of size (50) to a 2D array of size (50,1)  which is the dimensions used for implemenation of most modes, but this will be covered more later.\n",
    "\n",
    "First  we will split our data into a training set and a testing set, below we will just split it but normally you would want randomly split the data (don't think this is always true for sequential data) and then create a function to plot our prediction data and training data."
   ]
  },
  {
   "cell_type": "code",
   "execution_count": 45,
   "metadata": {},
   "outputs": [],
   "source": [
    "import matplotlib.pyplot as plt\n",
    "# Create train/test split\n",
    "train_split = int(0.8 * len(X)) # 80% of data used for training set, 20% for testing \n",
    "X_train, y_train = X[:train_split].to(device), y[:train_split].to(device)\n",
    "X_test, y_test = X[train_split:].to(device), y[train_split:].to(device)\n",
    "\n",
    "\n",
    "def plot_predictions(train_data=X_train, \n",
    "                     train_labels=y_train, \n",
    "                     test_data=X_test, \n",
    "                     test_labels=y_test, \n",
    "                     predictions=None):\n",
    "  \"\"\"\n",
    "  Plots training data, test data and compares predictions.\n",
    "  \"\"\"\n",
    "  plt.figure(figsize=(8, 6))\n",
    "\n",
    "  # Plot training data in blue\n",
    "  plt.scatter(train_data.cpu(), train_labels.cpu(), c=\"b\", s=4, label=\"Training data\")\n",
    "  \n",
    "  # Plot test data in green\n",
    "  plt.scatter(test_data.cpu(), test_labels.cpu(), c=\"g\", s=4, label=\"Testing data\")\n",
    "\n",
    "  if predictions is not None:\n",
    "    # Plot the predictions in red (predictions were made on the test data)\n",
    "    plt.scatter(test_data.cpu(), predictions.cpu(), c=\"r\", s=4, label=\"Predictions\")\n",
    "\n",
    "  # Show the legend\n",
    "  plt.legend(prop={\"size\": 14});"
   ]
  },
  {
   "cell_type": "code",
   "execution_count": 17,
   "metadata": {},
   "outputs": [
    {
     "data": {
      "image/png": "[encoded data removed]",
      "text/plain": [
       "<Figure size 800x600 with 1 Axes>"
      ]
     },
     "metadata": {},
     "output_type": "display_data"
    }
   ],
   "source": [
    "plot_predictions()"
   ]
  },
  {
   "cell_type": "markdown",
   "metadata": {},
   "source": [
    "## Building a model"
   ]
  },
  {
   "cell_type": "markdown",
   "metadata": {},
   "source": [
    "Now that we have our data, we will build a model using the blue dots (training data) to predict our green dots (testing data), here we will jump straight into building our model and will explain it later."
   ]
  },
  {
   "cell_type": "code",
   "execution_count": 25,
   "metadata": {},
   "outputs": [],
   "source": [
    "# Creata a linear regression model\n",
    "class LinearRegressionModel(torch.nn.Module):\n",
    "    def __init__(self):\n",
    "        super().__init__()\n",
    "        self.weights = torch.nn.Parameter(torch.randn(1,\n",
    "                                                      dtype = torch.float)\n",
    "                                                      , requires_grad = True)\n",
    "        self.bias = torch.nn.Parameter(torch.randn(1, \n",
    "                                            dtype=torch.float), \n",
    "                                requires_grad=True)\n",
    "        \n",
    "    def forward(self, x : torch.Tensor) -> torch.Tensor:\n",
    "        return self.weights * x + self.bias"
   ]
  },
  {
   "cell_type": "markdown",
   "metadata": {},
   "source": [
    "torch.nn contains all the building blocks for computational graphs and contains nn.Paramter and nn.Module which are used to build out classes, and torch.optim contains various optimisation algorithms for optimisation a given loss funciton. The requires_grad = True ensures that all operations on a tensor are tracked so they can compute gradients during back proppagation, requires_grad = False can be used for static layers or paramaters in a model.\n",
    "\n",
    "<bold> Checking contents of a pytorch model </bold>\n",
    "\n",
    "We will now create a model instance and check its parameters using .paramaters()."
   ]
  },
  {
   "cell_type": "code",
   "execution_count": 40,
   "metadata": {},
   "outputs": [
    {
     "name": "stdout",
     "output_type": "stream",
     "text": [
      "cpu\n"
     ]
    }
   ],
   "source": [
    "# Set manual seed \n",
    "torch.manual_seed(42)\n",
    "\n",
    "# Create a model\n",
    "model_0 = LinearRegressionModel().to(device)\n",
    "\n",
    "# Check the nn.Parameter(s) within the nn.Module subclass we created\n",
    "list(model_0.parameters())\n",
    "\n",
    "# List named parameters \n",
    "model_0.state_dict()\n",
    "\n"
   ]
  },
  {
   "cell_type": "markdown",
   "metadata": {},
   "source": [
    "Here we see that weight and bias are initatied with random values ( which are the same each time since there is a set seed right now) and our aim is to find the true values.\n",
    "\n",
    "We can also make predictions using torch.inference_mode() to see how closely our models predicts y to the true values."
   ]
  },
  {
   "cell_type": "code",
   "execution_count": 43,
   "metadata": {},
   "outputs": [
    {
     "name": "stdout",
     "output_type": "stream",
     "text": [
      "Number of testing samples: 10\n",
      "Number of predictions made: 10\n",
      "Predicted values:\n",
      "tensor([[0.3982],\n",
      "        [0.4049],\n",
      "        [0.4116],\n",
      "        [0.4184],\n",
      "        [0.4251],\n",
      "        [0.4318],\n",
      "        [0.4386],\n",
      "        [0.4453],\n",
      "        [0.4520],\n",
      "        [0.4588]], device='cuda:0')\n"
     ]
    }
   ],
   "source": [
    "# Make predictions with model\n",
    "with torch.inference_mode(): \n",
    "    y_preds = model_0(X_test)\n",
    "\n",
    "print(f\"Number of testing samples: {len(X_test)}\") \n",
    "print(f\"Number of predictions made: {len(y_preds)}\")\n",
    "print(f\"Predicted values:\\n{y_preds}\")"
   ]
  },
  {
   "cell_type": "code",
   "execution_count": 46,
   "metadata": {},
   "outputs": [
    {
     "data": {
      "image/png": "[encoded data removed]",
      "text/plain": [
       "<Figure size 800x600 with 1 Axes>"
      ]
     },
     "metadata": {},
     "output_type": "display_data"
    }
   ],
   "source": [
    "plot_predictions(predictions=y_preds)"
   ]
  },
  {
   "cell_type": "markdown",
   "metadata": {},
   "source": [
    "As we see the randomly initalised model has an awful prediction of the data."
   ]
  },
  {
   "cell_type": "markdown",
   "metadata": {},
   "source": [
    "## Training the model"
   ]
  },
  {
   "cell_type": "markdown",
   "metadata": {},
   "source": [
    "To train our model we need to chosen 2 things:\n",
    "\n",
    "* A loss function\n",
    "* An optimiser\n",
    "\n",
    "The chose of loss function and optimiser depends both on the type of problem and what metric is important for use and imformation of the different loss functions can be found [here](https://pytorch.org/docs/stable/nn.functional.html) and optimisers can be fouund [here](https://pytorch.org/docs/stable/optim.html).\n",
    "\n",
    "For our model we will use MSR (l1loss) and SGD.\n"
   ]
  },
  {
   "cell_type": "code",
   "execution_count": 55,
   "metadata": {},
   "outputs": [],
   "source": [
    "# Create the loss funciton\n",
    "loss_fn = torch.nn.L1Loss() \n",
    "\n",
    "# Create the optimizer\n",
    "optimizer = torch.optim.SGD(params=model_0.parameters(),\n",
    "                            lr=0.001)"
   ]
  },
  {
   "cell_type": "markdown",
   "metadata": {},
   "source": [
    "### Creating an optimisation loop"
   ]
  },
  {
   "cell_type": "markdown",
   "metadata": {},
   "source": [
    "Defining  a training loop in pytorch follows the following standard structure:\n",
    "\n",
    "* Forward pass\n",
    "* Calculate the loss\n",
    "* Zero gradients\n",
    "* Perform back propagation\n",
    "* Update the optimiser ( gradient descent)"
   ]
  },
  {
   "cell_type": "code",
   "execution_count": 59,
   "metadata": {},
   "outputs": [
    {
     "name": "stdout",
     "output_type": "stream",
     "text": [
      "Epoch: 10 | MAE Train Loss: 0.00028008074150420725 | MAE Test Loss: 0.0013304412132129073 \n",
      "Epoch: 20 | MAE Train Loss: 0.00028008074150420725 | MAE Test Loss: 0.0013304412132129073 \n",
      "Epoch: 30 | MAE Train Loss: 0.00028008074150420725 | MAE Test Loss: 0.0013304412132129073 \n",
      "Epoch: 40 | MAE Train Loss: 0.00028008074150420725 | MAE Test Loss: 0.0013304412132129073 \n",
      "Epoch: 50 | MAE Train Loss: 0.00028008074150420725 | MAE Test Loss: 0.0013304412132129073 \n",
      "Epoch: 60 | MAE Train Loss: 0.00028008074150420725 | MAE Test Loss: 0.0013304412132129073 \n",
      "Epoch: 70 | MAE Train Loss: 0.00028008074150420725 | MAE Test Loss: 0.0013304412132129073 \n",
      "Epoch: 80 | MAE Train Loss: 0.00028008074150420725 | MAE Test Loss: 0.0013304412132129073 \n",
      "Epoch: 90 | MAE Train Loss: 0.00028008074150420725 | MAE Test Loss: 0.0013304412132129073 \n",
      "Epoch: 100 | MAE Train Loss: 0.00028008074150420725 | MAE Test Loss: 0.0013304412132129073 \n"
     ]
    }
   ],
   "source": [
    "\n",
    "\n",
    "torch.manual_seed(42)\n",
    "\n",
    "# Set the number of epochs (how many times the model will pass over the training data)\n",
    "epochs = 100\n",
    "\n",
    "# Create empty loss lists to track values\n",
    "train_loss_values = []\n",
    "test_loss_values = []\n",
    "epoch_count = []\n",
    "\n",
    "for epoch in range(1, epochs +1 ):\n",
    "    ### Training\n",
    "\n",
    "    # Put model in training mode (this is the default state of a model)\n",
    "    model_0.train()\n",
    "\n",
    "    # 1. Forward pass on train data using the forward() method inside \n",
    "    y_pred = model_0(X_train)\n",
    "    # print(y_pred)\n",
    "\n",
    "    # 2. Calculate the loss (how different are our models predictions to the ground truth)\n",
    "    loss = loss_fn(y_pred, y_train)\n",
    "\n",
    "    # 3. Zero grad of the optimizer\n",
    "    optimizer.zero_grad()\n",
    "\n",
    "    # 4. Loss backwards\n",
    "    loss.backward()\n",
    "\n",
    "    # 5. Progress the optimizer\n",
    "    optimizer.step()\n",
    "\n",
    "    ### Testing\n",
    "\n",
    "    # Put the model in evaluation mode\n",
    "    model_0.eval()\n",
    "\n",
    "    with torch.inference_mode():\n",
    "      # 1. Forward pass on test data\n",
    "      test_pred = model_0(X_test)\n",
    "\n",
    "      # 2. Caculate loss on test data\n",
    "      test_loss = loss_fn(test_pred, y_test.type(torch.float)) # predictions come in torch.float datatype, so comparisons need to be done with tensors of the same type\n",
    "\n",
    "      # Print out what's happening\n",
    "      if epoch % 10 == 0:\n",
    "            epoch_count.append(epoch)\n",
    "            train_loss_values.append(loss.cpu().detach().numpy())\n",
    "            test_loss_values.append(test_loss.cpu().detach().numpy())\n",
    "            print(f\"Epoch: {epoch} | MAE Train Loss: {loss} | MAE Test Loss: {test_loss} \")\n"
   ]
  },
  {
   "cell_type": "code",
   "execution_count": 60,
   "metadata": {},
   "outputs": [
    {
     "data": {
      "text/plain": [
       "<matplotlib.legend.Legend at 0x149d32578f0>"
      ]
     },
     "execution_count": 60,
     "metadata": {},
     "output_type": "execute_result"
    },
    {
     "data": {
      "image/png": "[encoded data removed]",
      "text/plain": [
       "<Figure size 640x480 with 1 Axes>"
      ]
     },
     "metadata": {},
     "output_type": "display_data"
    }
   ],
   "source": [
    "# Plot the loss curves\n",
    "plt.plot(epoch_count, train_loss_values, label=\"Train loss\")\n",
    "plt.plot(epoch_count, test_loss_values, label=\"Test loss\")\n",
    "plt.title(\"Training and test loss curves\")\n",
    "plt.ylabel(\"Loss\")\n",
    "plt.xlabel(\"Epochs\")\n",
    "plt.legend()\n"
   ]
  },
  {
   "cell_type": "markdown",
   "metadata": {},
   "source": [
    "As we see our model almost instantly optimises (i assume due to training on gpu) due to the simplicity of the model."
   ]
  },
  {
   "cell_type": "markdown",
   "metadata": {},
   "source": [
    "## Making predictions with a trained pytorch model"
   ]
  },
  {
   "cell_type": "markdown",
   "metadata": {},
   "source": [
    "Once you have trained a model, you will likely want to make predictions with it, and we have already seen a glimpse of this in the training/testing loop above.\n",
    "\n",
    "There are 3 things to remember when making predictions with a pytorch model:\n",
    "\n",
    "* Set the model in evaluation mode ( model.eval() )\n",
    "* Make the predictions using the inference mode context manager ( torch.inference.mode() )\n",
    "* All predictions should be make with the objects and data on the same device.\n",
    "\n",
    "The first 2  make sure all calculations used during training do not occur, allowing faster computation and the third ensures no cross device errors."
   ]
  },
  {
   "cell_type": "code",
   "execution_count": 62,
   "metadata": {},
   "outputs": [
    {
     "data": {
      "text/plain": [
       "tensor([[0.8588],\n",
       "        [0.8727],\n",
       "        [0.8867],\n",
       "        [0.9007],\n",
       "        [0.9147],\n",
       "        [0.9287],\n",
       "        [0.9426],\n",
       "        [0.9566],\n",
       "        [0.9706],\n",
       "        [0.9846]], device='cuda:0')"
      ]
     },
     "execution_count": 62,
     "metadata": {},
     "output_type": "execute_result"
    }
   ],
   "source": [
    "# 1. Set the model in evaluation mode\n",
    "model_0.eval()\n",
    "\n",
    "# 2. Setup the inference mode context manager\n",
    "with torch.inference_mode():\n",
    "  # 3. Make sure the calculations are done with the model and data on the same device\n",
    "  # in our case, we haven't setup device-agnostic code yet so our data and model are\n",
    "  # on the CPU by default.\n",
    "  # model_0.to(device)\n",
    "  # X_test = X_test.to(device)\n",
    "  y_preds = model_0(X_test)\n",
    "y_preds"
   ]
  },
  {
   "cell_type": "code",
   "execution_count": 63,
   "metadata": {},
   "outputs": [
    {
     "data": {
      "image/png": "[encoded data removed]",
      "text/plain": [
       "<Figure size 800x600 with 1 Axes>"
      ]
     },
     "metadata": {},
     "output_type": "display_data"
    }
   ],
   "source": [
    "plot_predictions(predictions=y_preds)"
   ]
  },
  {
   "cell_type": "markdown",
   "metadata": {},
   "source": [
    "As we see our model almost completely accuratly predicts the testing data."
   ]
  },
  {
   "cell_type": "markdown",
   "metadata": {},
   "source": [
    "## Saving and loading a PyTorch model"
   ]
  },
  {
   "cell_type": "markdown",
   "metadata": {},
   "source": [
    "After you have train a Pytorch model, it is often useful to save and export the model elsewhere, like we could train it on an external server (like google colab) and then export it externally to use.\n",
    "\n",
    "For saving and loading models in pytorch, there are 3 main methods \n",
    "* torch.save\n",
    "* torch.load\n",
    "* torch.nn.Module.load_state_dict"
   ]
  },
  {
   "cell_type": "markdown",
   "metadata": {},
   "source": [
    "### Saving a model"
   ]
  },
  {
   "cell_type": "markdown",
   "metadata": {},
   "source": [
    "The [recommend way](https://pytorch.org/tutorials/beginner/saving_loading_models.html#saving-loading-model-for-inference) of saving a model for inference is by saving and loading a model's state_dict and we can do it in a few steps\n",
    "* We'll create a directory for saving models to be called models using pythons pathlib module\n",
    "* We'll create a file path to save the model to \n",
    "* We'll call torch.save(obj, f)\n",
    "\n",
    "As shown below"
   ]
  },
  {
   "cell_type": "code",
   "execution_count": 67,
   "metadata": {},
   "outputs": [
    {
     "name": "stdout",
     "output_type": "stream",
     "text": [
      "Saving model to: models\\01_pytorch_workflow_model_0.pth\n"
     ]
    }
   ],
   "source": [
    "from pathlib import Path\n",
    "\n",
    "# 1. Create models directory \n",
    "MODEL_PATH = Path(\"models\")\n",
    "MODEL_PATH.mkdir(parents=True, exist_ok=True)\n",
    "\n",
    "# 2. Create model save path \n",
    "MODEL_NAME = \"01_pytorch_workflow_model_0.pth\"\n",
    "MODEL_SAVE_PATH = MODEL_PATH / MODEL_NAME\n",
    "\n",
    "# 3. Save the model state dict \n",
    "print(f\"Saving model to: {MODEL_SAVE_PATH}\")\n",
    "torch.save(obj=model_0.state_dict(), # only saving the state_dict() only saves the models learned parameters\n",
    "           f=MODEL_SAVE_PATH)"
   ]
  },
  {
   "cell_type": "markdown",
   "metadata": {},
   "source": [
    "### Loading a saved Pytorch model's state_dict"
   ]
  },
  {
   "cell_type": "markdown",
   "metadata": {},
   "source": [
    "Since we've now got a saved model state_dict() saved within our directory, we can load it using torch.nn.Module.load_state_dict(torch.load(f)) The reason we load it into a load state is so that we create  a new instance of our module, which is a subclass of nn.Module.\n",
    "\n",
    "Why not just save the entire model?\n",
    "\n",
    "Saving the entire model is rather my intuitive, however the approeach of serialised data can cause the code to break in various ways when used in other projects or refactors.\n",
    "\n",
    "An example of loading the model is shown below (the weights_only = True is just so i didnt get a random error):"
   ]
  },
  {
   "cell_type": "code",
   "execution_count": 70,
   "metadata": {},
   "outputs": [
    {
     "data": {
      "text/plain": [
       "<All keys matched successfully>"
      ]
     },
     "execution_count": 70,
     "metadata": {},
     "output_type": "execute_result"
    }
   ],
   "source": [
    "# Instantiate a new instance of our model (this will be instantiated with random weights)\n",
    "loaded_model_0 = LinearRegressionModel()\n",
    "\n",
    "# Load the state_dict of our saved model (this will update the new instance of our model with trained weights)\n",
    "loaded_model_0.load_state_dict(torch.load(f=MODEL_SAVE_PATH,weights_only=True ))\n"
   ]
  },
  {
   "cell_type": "markdown",
   "metadata": {},
   "source": [
    "We can then use the loaded_model_0 the same way as before."
   ]
  },
  {
   "cell_type": "markdown",
   "metadata": {},
   "source": [
    "## Exercises"
   ]
  },
  {
   "cell_type": "markdown",
   "metadata": {},
   "source": [
    "We will now put it all together by trying to tackle the exercises at the bottom of [learnpytorch.io](https://www.learnpytorch.io/01_pytorch_workflow/#5-saving-and-loading-a-pytorch-mode)."
   ]
  },
  {
   "cell_type": "code",
   "execution_count": 94,
   "metadata": {},
   "outputs": [
    {
     "data": {
      "image/png": "[encoded data removed]",
      "text/plain": [
       "<Figure size 600x400 with 1 Axes>"
      ]
     },
     "metadata": {},
     "output_type": "display_data"
    }
   ],
   "source": [
    "from sklearn.model_selection import train_test_split\n",
    "\n",
    "# Set the weight\n",
    "weight_ex = 0.3\n",
    "# Set the bias\n",
    "bias_ex = 0.9\n",
    "\n",
    "# Create 150 data points in a (150, 1) tensor on the GPU\n",
    "X_ex = torch.linspace(0, 100, 150).to(device).unsqueeze(dim = 1)\n",
    "# Create y's according to the relationship\n",
    "y = weight_ex * X_ex + bias_ex\n",
    "\n",
    "\n",
    "X_ex_train, X_ex_test, y_ex_train, y_ex_test = train_test_split(X_ex, y)\n",
    "\n",
    "def plot_data(y_pred = None,\n",
    "              X_train = X_ex_train, \n",
    "              y_train = y_ex_train,\n",
    "              X_test = X_ex_test,\n",
    "              y_test = y_ex_test\n",
    "              ):\n",
    "\n",
    "\n",
    "\n",
    "\n",
    "    fig = plt.figure(figsize = (6,4))\n",
    "    \n",
    "    plt.plot(X_train.cpu(), y_train.cpu(), c = \"b\" )\n",
    "    plt.plot(X_test.cpu(), y_test.cpu(), c =\"r\")\n",
    "    if y_pred != None:\n",
    "        plt.plot(X_test.cpu(), y_pred.cpu() , c = \"o\")\n",
    "\n",
    "\n",
    "plot_data()"
   ]
  },
  {
   "cell_type": "code",
   "execution_count": 143,
   "metadata": {},
   "outputs": [
    {
     "name": "stdout",
     "output_type": "stream",
     "text": [
      "OrderedDict({'weight': tensor([0.3005], device='cuda:0'), 'bias': tensor([0.9008], device='cuda:0')})\n"
     ]
    }
   ],
   "source": [
    "class LinearRegressionModelExercise(torch.nn.Module):\n",
    "    def __init__(self) -> None:\n",
    "        super().__init__()\n",
    "        self.weight = torch.nn.Parameter(torch.rand(1, dtype = torch.float)\n",
    "                                 , requires_grad = True)\n",
    "        self.bias = torch.nn.Parameter(torch.rand(1, dtype = torch.float)\n",
    "                                 , requires_grad = True)\n",
    "    def forward(self, X : torch.Tensor) -> torch.Tensor:\n",
    "        return self.weight * X + self.bias\n",
    "\n",
    "\n",
    "model_exerise = LinearRegressionModelExercise().to(device)\n",
    "\n",
    "optimiser_exercise = torch.optim.Adam(params= model_exerise.parameters(), lr = 0.01)\n",
    "loss_exercise = torch.nn.L1Loss()\n",
    "\n",
    "EPOCHES_E = 3000\n",
    "\n",
    "for _ in range(1, EPOCHES_E + 1):\n",
    "    predictions = model_exerise.forward(X_ex_train)\n",
    "\n",
    "    loss = loss_exercise(predictions, y_ex_train)\n",
    "\n",
    "    optimiser_exercise.zero_grad()\n",
    "\n",
    "    loss.backward()\n",
    "    \n",
    "    optimiser_exercise.step()\n",
    "\n",
    "print(model_exerise.state_dict())\n",
    "\n",
    "\n"
   ]
  }
 ],
 "metadata": {
  "kernelspec": {
   "display_name": "Python 3",
   "language": "python",
   "name": "python3"
  },
  "language_info": {
   "codemirror_mode": {
    "name": "ipython",
    "version": 3
   },
   "file_extension": ".py",
   "mimetype": "text/x-python",
   "name": "python",
   "nbconvert_exporter": "python",
   "pygments_lexer": "ipython3",
   "version": "3.12.5"
  }
 },
 "nbformat": 4,
 "nbformat_minor": 2
}
